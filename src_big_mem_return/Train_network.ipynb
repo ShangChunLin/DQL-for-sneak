{
 "cells": [
  {
   "cell_type": "markdown",
   "metadata": {},
   "source": [
    "# DQL for snake game\n",
    "using board (matrix) as input, CNN, so no reward nor state, only scores and gameover"
   ]
  },
  {
   "cell_type": "code",
   "execution_count": 1,
   "metadata": {},
   "outputs": [],
   "source": [
    "import math\n",
    "import random\n",
    "import numpy as np\n",
    "import matplotlib\n",
    "import matplotlib.pyplot as plt\n",
    "from collections import namedtuple\n",
    "from itertools import count\n",
    "import time \n",
    "\n",
    "import torch\n",
    "import torch.nn as nn\n",
    "import torch.optim as optim\n",
    "import torch.nn.functional as F\n",
    "#import torchvision.transforms as T\n",
    "\n"
   ]
  },
  {
   "cell_type": "code",
   "execution_count": 2,
   "metadata": {},
   "outputs": [],
   "source": [
    "Transition = namedtuple('Transition',\n",
    "                        ('state', 'action', 'next_state', 'reward'))\n",
    "\n",
    "\n",
    "class ReplayMemory(object):\n",
    "\n",
    "    def __init__(self, capacity):\n",
    "        self.capacity = capacity\n",
    "        self.memory = []\n",
    "        self.position = 0\n",
    "\n",
    "    def push(self, *args):\n",
    "        \"\"\"Saves a transition.\"\"\"\n",
    "        if len(self.memory) < self.capacity:\n",
    "            self.memory.append(None)\n",
    "        self.memory[self.position] = Transition(*args)\n",
    "        self.position = (self.position + 1) % self.capacity\n",
    "\n",
    "    def sample(self, batch_size):\n",
    "        return random.sample(self.memory, batch_size)\n",
    "\n",
    "    def __len__(self):\n",
    "        return len(self.memory)\n",
    "    \n",
    "    "
   ]
  },
  {
   "cell_type": "code",
   "execution_count": 3,
   "metadata": {},
   "outputs": [],
   "source": [
    "#not very flexible. Whatever for now.\n",
    "\n",
    "class DQN(nn.Module):\n",
    "\n",
    "    def __init__(self, time_window, h, w, outputs):\n",
    "        \n",
    "        super(DQN, self).__init__()\n",
    "        nfc =128 #num of final chanel\n",
    "        \n",
    "        self.conv1 = nn.Conv3d(1, 128,kernel_size=(1,5,5))#super big boundary\n",
    "        self.conv2 = nn.Conv3d(128,128,kernel_size=(1,5,5))\n",
    "        #self.max1 = nn.MaxPool3d((1,2,2))\n",
    "        self.conv3 = nn.Conv3d(128,128,kernel_size=(1,3,3))\n",
    "        self.conv4 = nn.Conv3d(128,nfc,kernel_size=(1,3,3))\n",
    "        \n",
    "        convw = 6\n",
    "        convh = 6\n",
    "        convtime_window = time_window\n",
    "        linear_input_size = convw * convh * convtime_window* nfc\n",
    "        self.head = nn.Linear(linear_input_size, outputs)\n",
    "        \n",
    "    def forward(self, x):\n",
    "        \n",
    "        #print(x.shape)\n",
    "        #x = nn.functional.pad(x,(6,6,6,6,0,0), mode='constant', value=0)\n",
    "        #print(x.shape)\n",
    "        #x = nn.functional.pad(x,(1,1,1,1,0,0), mode='constant', value=0)\n",
    "        x = F.relu(self.conv1(x))\n",
    "        #print(x.shape)\n",
    "        x = F.relu(self.conv2(x))\n",
    "        #x = self.max1(x)\n",
    "        x = F.relu(self.conv3(x))\n",
    "        x = F.relu(self.conv4(x))\n",
    "        #print(x.shape)\n",
    "        #x = F.relu(self.bn4(self.conv4(x)))\n",
    "        #x = F.relu(self.bn5(self.conv5(x)))\n",
    "        return self.head(x.view(x.size(0), -1))"
   ]
  },
  {
   "cell_type": "code",
   "execution_count": 4,
   "metadata": {},
   "outputs": [],
   "source": [
    "def get_memory(memory_board,game,device):\n",
    "    #print(memory_board.shape)\n",
    "    time_window,_,game_size = memory_board.shape\n",
    "    memory_board *= 0.5\n",
    "    board = np.asarray(game.getBoard(),dtype=\"float32\")\n",
    "    Range = max(game.get_parameter())-min(game.get_parameter())\n",
    "    board/= (Range/2)  #scale to 0-2\n",
    "    board-= 1.0      #scale to -1-1\n",
    "    memory_board = memory_board[1:,:,:]\n",
    "    memory_board = np.append(memory_board,[board],axis=0)\n",
    "    tmp = memory_board.reshape(1,time_window,game_size,game_size)\n",
    "    tmp = torch.from_numpy(tmp).float()\n",
    "    return tmp.unsqueeze(0).to(device),memory_board"
   ]
  },
  {
   "cell_type": "code",
   "execution_count": null,
   "metadata": {},
   "outputs": [],
   "source": []
  }
 ],
 "metadata": {
  "kernelspec": {
   "display_name": "Python 3",
   "language": "python",
   "name": "python3"
  },
  "language_info": {
   "codemirror_mode": {
    "name": "ipython",
    "version": 3
   },
   "file_extension": ".py",
   "mimetype": "text/x-python",
   "name": "python",
   "nbconvert_exporter": "python",
   "pygments_lexer": "ipython3",
   "version": "3.7.7"
  }
 },
 "nbformat": 4,
 "nbformat_minor": 2
}
